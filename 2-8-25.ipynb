{
 "cells": [
  {
   "cell_type": "code",
   "execution_count": 2,
   "id": "ff393228-021c-49c2-a405-76a34e67d651",
   "metadata": {},
   "outputs": [],
   "source": [
    "def hello():\n",
    "    print(\"Hello, World!\")"
   ]
  },
  {
   "cell_type": "code",
   "execution_count": 4,
   "id": "2b80c001-4a5e-4e9d-998b-2bf85bfc7f25",
   "metadata": {},
   "outputs": [
    {
     "name": "stdout",
     "output_type": "stream",
     "text": [
      "Hello, World!\n"
     ]
    }
   ],
   "source": [
    "hello()"
   ]
  },
  {
   "cell_type": "code",
   "execution_count": 3,
   "id": "d010f32a-bf28-4a6b-810a-3477e3694b70",
   "metadata": {},
   "outputs": [],
   "source": [
    "def add(a,b):\n",
    "    return a+b"
   ]
  },
  {
   "cell_type": "code",
   "execution_count": 5,
   "id": "fe4c0a6d-9823-4ba2-b324-81040bcfbfae",
   "metadata": {},
   "outputs": [
    {
     "name": "stdout",
     "output_type": "stream",
     "text": [
      "8\n"
     ]
    }
   ],
   "source": [
    "b=add(5,3)\n",
    "print(b)"
   ]
  },
  {
   "cell_type": "code",
   "execution_count": null,
   "id": "0ac9fc5f-8490-4106-92bf-5056d379a82a",
   "metadata": {},
   "outputs": [],
   "source": [
    "def greet(name='Guest'):\n",
    "    print(f\"Hello, {name}!\")"
   ]
  },
  {
   "cell_type": "code",
   "execution_count": null,
   "id": "5650741b-2f4b-4b8d-89be-aad8fc739854",
   "metadata": {},
   "outputs": [],
   "source": [
    "def is_even(num):\n",
    "    if num%2==0:\n",
    "        return True\n",
    "    else:\n",
    "        return False"
   ]
  },
  {
   "cell_type": "code",
   "execution_count": 9,
   "id": "e1964162-d1cf-4231-89ae-2c580c410094",
   "metadata": {},
   "outputs": [
    {
     "ename": "NameError",
     "evalue": "name 'is_even' is not defined",
     "output_type": "error",
     "traceback": [
      "\u001b[31m---------------------------------------------------------------------------\u001b[39m",
      "\u001b[31mNameError\u001b[39m                                 Traceback (most recent call last)",
      "\u001b[36mCell\u001b[39m\u001b[36m \u001b[39m\u001b[32mIn[9]\u001b[39m\u001b[32m, line 1\u001b[39m\n\u001b[32m----> \u001b[39m\u001b[32m1\u001b[39m \u001b[43mis_even\u001b[49m(\u001b[32m4\u001b[39m)\n",
      "\u001b[31mNameError\u001b[39m: name 'is_even' is not defined"
     ]
    }
   ],
   "source": [
    "is_even(4)"
   ]
  },
  {
   "cell_type": "code",
   "execution_count": 10,
   "id": "c6331337-42ee-4291-8de6-46e17ac52470",
   "metadata": {},
   "outputs": [
    {
     "ename": "NameError",
     "evalue": "name 'is_even' is not defined",
     "output_type": "error",
     "traceback": [
      "\u001b[31m---------------------------------------------------------------------------\u001b[39m",
      "\u001b[31mNameError\u001b[39m                                 Traceback (most recent call last)",
      "\u001b[36mCell\u001b[39m\u001b[36m \u001b[39m\u001b[32mIn[10]\u001b[39m\u001b[32m, line 1\u001b[39m\n\u001b[32m----> \u001b[39m\u001b[32m1\u001b[39m \u001b[43mis_even\u001b[49m(\u001b[32m5\u001b[39m)\n",
      "\u001b[31mNameError\u001b[39m: name 'is_even' is not defined"
     ]
    }
   ],
   "source": [
    "is_even(5)"
   ]
  },
  {
   "cell_type": "code",
   "execution_count": 13,
   "id": "73626050-0c9f-49e3-8d9c-8a2c8d45e6f2",
   "metadata": {},
   "outputs": [],
   "source": [
    "def find_max(a,b,c):\n",
    "    return max(a, b, c)\n",
    "    find_max(10,20,200)"
   ]
  },
  {
   "cell_type": "code",
   "execution_count": null,
   "id": "d8338e89-0ffd-4d3a-8c56-97b7401b73c2",
   "metadata": {},
   "outputs": [],
   "source": [
    "import random\n",
    "def guess_the_number():\n",
    "    number=random.randint(1, 10)\n",
    "    guess=int(input(\"Guess a number between 1 and 10: \"))\n",
    "    \n",
    "    if guess == number:\n",
    "        print(\"Congratulations! You guessed the number.\")   \n",
    "    else:\n",
    "        print(f\"Sorry, the number was {number}. Better luck next time!\")"
   ]
  },
  {
   "cell_type": "code",
   "execution_count": 14,
   "id": "c7261b13-9eeb-4547-b493-d642173978c0",
   "metadata": {},
   "outputs": [
    {
     "ename": "NameError",
     "evalue": "name 'guess_the_number' is not defined",
     "output_type": "error",
     "traceback": [
      "\u001b[31m---------------------------------------------------------------------------\u001b[39m",
      "\u001b[31mNameError\u001b[39m                                 Traceback (most recent call last)",
      "\u001b[36mCell\u001b[39m\u001b[36m \u001b[39m\u001b[32mIn[14]\u001b[39m\u001b[32m, line 1\u001b[39m\n\u001b[32m----> \u001b[39m\u001b[32m1\u001b[39m \u001b[43mguess_the_number\u001b[49m()\n",
      "\u001b[31mNameError\u001b[39m: name 'guess_the_number' is not defined"
     ]
    }
   ],
   "source": [
    "guess_the_number()"
   ]
  },
  {
   "cell_type": "code",
   "execution_count": 15,
   "id": "8c60c545-f715-47a6-a1c1-ddfb1268dbd3",
   "metadata": {},
   "outputs": [],
   "source": [
    "def roll_dice():\n",
    "    dice=random.randint(1, 6)\n",
    "    print(f\"You rolled a {dice}!\")\n",
    "    roll_dice()"
   ]
  },
  {
   "cell_type": "code",
   "execution_count": 16,
   "id": "ef757322-b2a9-4b14-86a1-bd5da58054de",
   "metadata": {},
   "outputs": [
    {
     "name": "stdin",
     "output_type": "stream",
     "text": [
      "please press Enter to continue... 4\n"
     ]
    },
    {
     "ename": "NameError",
     "evalue": "name 'random' is not defined",
     "output_type": "error",
     "traceback": [
      "\u001b[31m---------------------------------------------------------------------------\u001b[39m",
      "\u001b[31mNameError\u001b[39m                                 Traceback (most recent call last)",
      "\u001b[36mCell\u001b[39m\u001b[36m \u001b[39m\u001b[32mIn[16]\u001b[39m\u001b[32m, line 3\u001b[39m\n\u001b[32m      1\u001b[39m \u001b[38;5;28;01mwhile\u001b[39;00m \u001b[38;5;28;01mTrue\u001b[39;00m:\n\u001b[32m      2\u001b[39m     \u001b[38;5;28minput\u001b[39m(\u001b[33m\"\u001b[39m\u001b[33mplease press Enter to continue...\u001b[39m\u001b[33m\"\u001b[39m)  \u001b[38;5;66;03m# This will keep the program running until interrupted\u001b[39;00m\n\u001b[32m----> \u001b[39m\u001b[32m3\u001b[39m     \u001b[43mroll_dice\u001b[49m\u001b[43m(\u001b[49m\u001b[43m)\u001b[49m\n\u001b[32m      4\u001b[39m     again = \u001b[38;5;28minput\u001b[39m(\u001b[33m\"\u001b[39m\u001b[33mDo you want to roll again? (yes/no): \u001b[39m\u001b[33m\"\u001b[39m)\n\u001b[32m      5\u001b[39m     \u001b[38;5;28;01mif\u001b[39;00m again.lower() != \u001b[33m'\u001b[39m\u001b[33myes\u001b[39m\u001b[33m'\u001b[39m:\n",
      "\u001b[36mCell\u001b[39m\u001b[36m \u001b[39m\u001b[32mIn[15]\u001b[39m\u001b[32m, line 2\u001b[39m, in \u001b[36mroll_dice\u001b[39m\u001b[34m()\u001b[39m\n\u001b[32m      1\u001b[39m \u001b[38;5;28;01mdef\u001b[39;00m\u001b[38;5;250m \u001b[39m\u001b[34mroll_dice\u001b[39m():\n\u001b[32m----> \u001b[39m\u001b[32m2\u001b[39m     dice=\u001b[43mrandom\u001b[49m.randint(\u001b[32m1\u001b[39m, \u001b[32m6\u001b[39m)\n\u001b[32m      3\u001b[39m     \u001b[38;5;28mprint\u001b[39m(\u001b[33mf\u001b[39m\u001b[33m\"\u001b[39m\u001b[33mYou rolled a \u001b[39m\u001b[38;5;132;01m{\u001b[39;00mdice\u001b[38;5;132;01m}\u001b[39;00m\u001b[33m!\u001b[39m\u001b[33m\"\u001b[39m)\n\u001b[32m      4\u001b[39m     roll_dice()\n",
      "\u001b[31mNameError\u001b[39m: name 'random' is not defined"
     ]
    }
   ],
   "source": [
    "while True:\n",
    "    input(\"please press Enter to continue...\")  # This will keep the program running until interrupted\n",
    "    roll_dice()\n",
    "    again = input(\"Do you want to roll again? (yes/no): \")\n",
    "    if again.lower() != 'yes':\n",
    "        print(\"Thank you for playing!\")\n",
    "        break"
   ]
  },
  {
   "cell_type": "code",
   "execution_count": null,
   "id": "d0d221f2-b592-4a81-8d69-19ce01833d82",
   "metadata": {},
   "outputs": [],
   "source": [
    "import tkinter as tk\n",
    "import random\n",
    "def roll_dice():\n",
    "    dice=random.randint(1, 6)\n",
    "    label_result.config(text=f\"You rolled a {dice}!\")\n",
    "    dice_label.config(text=dice_unicode[dice])\n",
    "    \n",
    "dice_unicode={\n",
    "    1: \"\\u2680\",  # ⚀\n",
    "    2: \"\\u2681\",  # ⚁\n",
    "    3: \"\\u2682\",  # ⚂\n",
    "    4: \"\\u2683\",  # ⚃\n",
    "    5: \"\\u2684\",  # ⚄\n",
    "    6: \"\\u2685\",  # ⚅\n",
    "}\n",
    "root=tk.Tk()\n",
    "root.title(\"Dice Roller\")\n",
    "root.geometry(\"300x200\")\n",
    "\n",
    "dice_label=tk.Label(root, text=\"\", font=(\"Helvetica\", 100))\n",
    "dice_label.pack()\n",
    "\n",
    "label_result=tk.Label(root, text=\"Click to Roll the dice \", font=(\"Helvetica\", 14))\n",
    "label_result.pack()\n",
    "\n",
    "roll_button=tk.Button(root, text=\"Roll Dice\", command=roll_dice,font=(\"Helvetica\", 12))\n",
    "roll_button.pack()\n",
    "\n",
    "root.mainloop()"
   ]
  },
  {
   "cell_type": "code",
   "execution_count": null,
   "id": "58c8be20-9bf7-408b-b14f-dd202a1c1069",
   "metadata": {},
   "outputs": [],
   "source": [
    "# take two file input and compare the similarity\n",
    "def compare_files(file1, file2):\n",
    "    content1 = file1.read()\n",
    "    content2 = file2.read()\n",
    "\n",
    "    print('file1 size:',len(content1.split()))\n",
    "    print('file2 size:',len(content2.split()))\n",
    "    if content1 == content2:\n",
    "        print(\"The files are identical.\")\n",
    "    else:\n",
    "        print(\"The files are different.\")\n",
    "\n",
    "    count1=0\n",
    "    length=(len(content1.split())+len(content2.split()))/2\n",
    "    for word in content1.split():\n",
    "        if word in content2.split():\n",
    "            count1+=1\n",
    "    print(\"Number of common words:\", count1)\n",
    "    print(\"Length of the files:     \",end=\"\")\n",
    "    print(\"file1:\",len(content1.split()) ,'     file2:', len(content2.split()))\n",
    "    similarity = (count1 / length) * 100\n",
    "    print(f\"Similarity: {similarity:.2f}%\")\n",
    "    \n",
    "    file1.close()\n",
    "    file2.close()\n"
   ]
  },
  {
   "cell_type": "code",
   "execution_count": 17,
   "id": "b860930a-4bde-42fe-8b08-d2114fe3f824",
   "metadata": {},
   "outputs": [
    {
     "name": "stdin",
     "output_type": "stream",
     "text": [
      "Enter the the first file  33\n",
      "Enter the the second file:  32\n"
     ]
    },
    {
     "ename": "FileNotFoundError",
     "evalue": "[Errno 2] No such file or directory: '33.txt'",
     "output_type": "error",
     "traceback": [
      "\u001b[31m---------------------------------------------------------------------------\u001b[39m",
      "\u001b[31mFileNotFoundError\u001b[39m                         Traceback (most recent call last)",
      "\u001b[36mCell\u001b[39m\u001b[36m \u001b[39m\u001b[32mIn[17]\u001b[39m\u001b[32m, line 3\u001b[39m\n\u001b[32m      1\u001b[39m file1 = \u001b[38;5;28minput\u001b[39m(\u001b[33m\"\u001b[39m\u001b[33mEnter the the first file \u001b[39m\u001b[33m\"\u001b[39m)+\u001b[33m\"\u001b[39m\u001b[33m.txt\u001b[39m\u001b[33m\"\u001b[39m\n\u001b[32m      2\u001b[39m file2 = \u001b[38;5;28minput\u001b[39m(\u001b[33m\"\u001b[39m\u001b[33mEnter the the second file: \u001b[39m\u001b[33m\"\u001b[39m)+\u001b[33m'\u001b[39m\u001b[33m.txt\u001b[39m\u001b[33m'\u001b[39m\n\u001b[32m----> \u001b[39m\u001b[32m3\u001b[39m f1=\u001b[38;5;28;43mopen\u001b[39;49m\u001b[43m(\u001b[49m\u001b[43mfile1\u001b[49m\u001b[43m,\u001b[49m\u001b[33;43m'\u001b[39;49m\u001b[33;43mr\u001b[39;49m\u001b[33;43m'\u001b[39;49m\u001b[43m)\u001b[49m\n\u001b[32m      4\u001b[39m f2=\u001b[38;5;28mopen\u001b[39m(file2,\u001b[33m'\u001b[39m\u001b[33mr\u001b[39m\u001b[33m'\u001b[39m)\n\u001b[32m      5\u001b[39m compare_files(f1, f2)\n",
      "\u001b[36mFile \u001b[39m\u001b[32m~\\AppData\\Local\\Programs\\Python\\Python313\\Lib\\site-packages\\IPython\\core\\interactiveshell.py:343\u001b[39m, in \u001b[36m_modified_open\u001b[39m\u001b[34m(file, *args, **kwargs)\u001b[39m\n\u001b[32m    336\u001b[39m \u001b[38;5;28;01mif\u001b[39;00m file \u001b[38;5;129;01min\u001b[39;00m {\u001b[32m0\u001b[39m, \u001b[32m1\u001b[39m, \u001b[32m2\u001b[39m}:\n\u001b[32m    337\u001b[39m     \u001b[38;5;28;01mraise\u001b[39;00m \u001b[38;5;167;01mValueError\u001b[39;00m(\n\u001b[32m    338\u001b[39m         \u001b[33mf\u001b[39m\u001b[33m\"\u001b[39m\u001b[33mIPython won\u001b[39m\u001b[33m'\u001b[39m\u001b[33mt let you open fd=\u001b[39m\u001b[38;5;132;01m{\u001b[39;00mfile\u001b[38;5;132;01m}\u001b[39;00m\u001b[33m by default \u001b[39m\u001b[33m\"\u001b[39m\n\u001b[32m    339\u001b[39m         \u001b[33m\"\u001b[39m\u001b[33mas it is likely to crash IPython. If you know what you are doing, \u001b[39m\u001b[33m\"\u001b[39m\n\u001b[32m    340\u001b[39m         \u001b[33m\"\u001b[39m\u001b[33myou can use builtins\u001b[39m\u001b[33m'\u001b[39m\u001b[33m open.\u001b[39m\u001b[33m\"\u001b[39m\n\u001b[32m    341\u001b[39m     )\n\u001b[32m--> \u001b[39m\u001b[32m343\u001b[39m \u001b[38;5;28;01mreturn\u001b[39;00m \u001b[43mio_open\u001b[49m\u001b[43m(\u001b[49m\u001b[43mfile\u001b[49m\u001b[43m,\u001b[49m\u001b[43m \u001b[49m\u001b[43m*\u001b[49m\u001b[43margs\u001b[49m\u001b[43m,\u001b[49m\u001b[43m \u001b[49m\u001b[43m*\u001b[49m\u001b[43m*\u001b[49m\u001b[43mkwargs\u001b[49m\u001b[43m)\u001b[49m\n",
      "\u001b[31mFileNotFoundError\u001b[39m: [Errno 2] No such file or directory: '33.txt'"
     ]
    }
   ],
   "source": [
    "file1 = input(\"Enter the the first file \")+\".txt\"\n",
    "file2 = input(\"Enter the the second file: \")+'.txt'\n",
    "f1=open(file1,'r')\n",
    "f2=open(file2,'r')\n",
    "compare_files(f1, f2)"
   ]
  },
  {
   "cell_type": "code",
   "execution_count": 18,
   "id": "65b10a4c-0adc-4edd-9f94-e3a58e99c370",
   "metadata": {},
   "outputs": [
    {
     "name": "stdout",
     "output_type": "stream",
     "text": [
      "Similarity: 66.67%\n"
     ]
    }
   ],
   "source": [
    "\n",
    "with open(\"file1.txt\", \"w\") as f:\n",
    "    f.write(\"hello world this is a test\")\n",
    "\n",
    "with open(\"file2.txt\", \"w\") as f:\n",
    "    f.write(\"hello earth this is another test\")\n",
    "\n",
    "\n",
    "def compare_files(f1, f2):\n",
    "    f1_words = f1.read().split()\n",
    "    f2_words = f2.read().split()\n",
    "    match_count = 0\n",
    "    min_length = min(len(f1_words), len(f2_words))\n",
    "    for i in range(min_length):\n",
    "        if f1_words[i] == f2_words[i]:\n",
    "            match_count += 1\n",
    "    max_length = max(len(f1_words), len(f2_words))\n",
    "    similarity = (match_count / max_length) * 100 if max_length != 0 else 0\n",
    "    print(f\"Similarity: {similarity:.2f}%\")\n",
    "\n",
    "with open(\"file1.txt\") as f1, open(\"file2.txt\") as f2:\n",
    "    compare_files(f1, f2)\n"
   ]
  },
  {
   "cell_type": "code",
   "execution_count": null,
   "id": "5b33f109-c6aa-4aca-a7f8-bb6c73634771",
   "metadata": {},
   "outputs": [],
   "source": []
  }
 ],
 "metadata": {
  "kernelspec": {
   "display_name": "Python 3 (ipykernel)",
   "language": "python",
   "name": "python3"
  },
  "language_info": {
   "codemirror_mode": {
    "name": "ipython",
    "version": 3
   },
   "file_extension": ".py",
   "mimetype": "text/x-python",
   "name": "python",
   "nbconvert_exporter": "python",
   "pygments_lexer": "ipython3",
   "version": "3.13.5"
  }
 },
 "nbformat": 4,
 "nbformat_minor": 5
}
