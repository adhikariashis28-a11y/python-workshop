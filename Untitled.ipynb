{
 "cells": [
  {
   "cell_type": "code",
   "execution_count": 2,
   "id": "b97e55ba-d422-4556-96a8-f93b25551146",
   "metadata": {},
   "outputs": [],
   "source": [
    "import pandas as pd"
   ]
  },
  {
   "cell_type": "code",
   "execution_count": 3,
   "id": "260d43d2-35c3-421e-9c5e-5e81cf1c240e",
   "metadata": {},
   "outputs": [],
   "source": [
    "df= pd.read_csv('data.csv')"
   ]
  },
  {
   "cell_type": "code",
   "execution_count": 5,
   "id": "e90b8b2d-5746-470c-b73b-92c078aedd5c",
   "metadata": {},
   "outputs": [
    {
     "data": {
      "text/html": [
       "<div>\n",
       "<style scoped>\n",
       "    .dataframe tbody tr th:only-of-type {\n",
       "        vertical-align: middle;\n",
       "    }\n",
       "\n",
       "    .dataframe tbody tr th {\n",
       "        vertical-align: top;\n",
       "    }\n",
       "\n",
       "    .dataframe thead th {\n",
       "        text-align: right;\n",
       "    }\n",
       "</style>\n",
       "<table border=\"1\" class=\"dataframe\">\n",
       "  <thead>\n",
       "    <tr style=\"text-align: right;\">\n",
       "      <th></th>\n",
       "      <th>Employee_ID</th>\n",
       "      <th>Name</th>\n",
       "      <th>Age</th>\n",
       "      <th>Gender</th>\n",
       "      <th>Department</th>\n",
       "      <th>Job_Title</th>\n",
       "      <th>Experience_Years</th>\n",
       "      <th>Education_Level</th>\n",
       "      <th>Location</th>\n",
       "      <th>Salary</th>\n",
       "    </tr>\n",
       "  </thead>\n",
       "  <tbody>\n",
       "    <tr>\n",
       "      <th>0</th>\n",
       "      <td>1</td>\n",
       "      <td>Merle Ingram</td>\n",
       "      <td>24</td>\n",
       "      <td>Female</td>\n",
       "      <td>Engineering</td>\n",
       "      <td>Engineer</td>\n",
       "      <td>1</td>\n",
       "      <td>Master</td>\n",
       "      <td>Austin</td>\n",
       "      <td>90000</td>\n",
       "    </tr>\n",
       "    <tr>\n",
       "      <th>1</th>\n",
       "      <td>2</td>\n",
       "      <td>John Mayes</td>\n",
       "      <td>56</td>\n",
       "      <td>Male</td>\n",
       "      <td>Sales</td>\n",
       "      <td>Executive</td>\n",
       "      <td>33</td>\n",
       "      <td>Master</td>\n",
       "      <td>Seattle</td>\n",
       "      <td>195000</td>\n",
       "    </tr>\n",
       "    <tr>\n",
       "      <th>2</th>\n",
       "      <td>3</td>\n",
       "      <td>Carlos Wille</td>\n",
       "      <td>21</td>\n",
       "      <td>Male</td>\n",
       "      <td>Engineering</td>\n",
       "      <td>Intern</td>\n",
       "      <td>1</td>\n",
       "      <td>Bachelor</td>\n",
       "      <td>New York</td>\n",
       "      <td>35000</td>\n",
       "    </tr>\n",
       "    <tr>\n",
       "      <th>3</th>\n",
       "      <td>4</td>\n",
       "      <td>Michael Bryant</td>\n",
       "      <td>30</td>\n",
       "      <td>Male</td>\n",
       "      <td>Finance</td>\n",
       "      <td>Analyst</td>\n",
       "      <td>9</td>\n",
       "      <td>Bachelor</td>\n",
       "      <td>New York</td>\n",
       "      <td>75000</td>\n",
       "    </tr>\n",
       "    <tr>\n",
       "      <th>4</th>\n",
       "      <td>5</td>\n",
       "      <td>Paula Douglas</td>\n",
       "      <td>25</td>\n",
       "      <td>Female</td>\n",
       "      <td>HR</td>\n",
       "      <td>Analyst</td>\n",
       "      <td>2</td>\n",
       "      <td>Master</td>\n",
       "      <td>Seattle</td>\n",
       "      <td>70000</td>\n",
       "    </tr>\n",
       "    <tr>\n",
       "      <th>...</th>\n",
       "      <td>...</td>\n",
       "      <td>...</td>\n",
       "      <td>...</td>\n",
       "      <td>...</td>\n",
       "      <td>...</td>\n",
       "      <td>...</td>\n",
       "      <td>...</td>\n",
       "      <td>...</td>\n",
       "      <td>...</td>\n",
       "      <td>...</td>\n",
       "    </tr>\n",
       "    <tr>\n",
       "      <th>65</th>\n",
       "      <td>66</td>\n",
       "      <td>Terry Parks</td>\n",
       "      <td>30</td>\n",
       "      <td>Female</td>\n",
       "      <td>Finance</td>\n",
       "      <td>Analyst</td>\n",
       "      <td>9</td>\n",
       "      <td>Bachelor</td>\n",
       "      <td>Chicago</td>\n",
       "      <td>80000</td>\n",
       "    </tr>\n",
       "    <tr>\n",
       "      <th>66</th>\n",
       "      <td>67</td>\n",
       "      <td>Curtis Matney</td>\n",
       "      <td>31</td>\n",
       "      <td>Male</td>\n",
       "      <td>Product</td>\n",
       "      <td>Engineer</td>\n",
       "      <td>10</td>\n",
       "      <td>Bachelor</td>\n",
       "      <td>New York</td>\n",
       "      <td>95000</td>\n",
       "    </tr>\n",
       "    <tr>\n",
       "      <th>67</th>\n",
       "      <td>68</td>\n",
       "      <td>Raleigh Holmes</td>\n",
       "      <td>56</td>\n",
       "      <td>Male</td>\n",
       "      <td>HR</td>\n",
       "      <td>Executive</td>\n",
       "      <td>33</td>\n",
       "      <td>Master</td>\n",
       "      <td>New York</td>\n",
       "      <td>195000</td>\n",
       "    </tr>\n",
       "    <tr>\n",
       "      <th>68</th>\n",
       "      <td>69</td>\n",
       "      <td>James Saleado</td>\n",
       "      <td>35</td>\n",
       "      <td>Male</td>\n",
       "      <td>Engineering</td>\n",
       "      <td>Manager</td>\n",
       "      <td>12</td>\n",
       "      <td>Master</td>\n",
       "      <td>New York</td>\n",
       "      <td>125000</td>\n",
       "    </tr>\n",
       "    <tr>\n",
       "      <th>69</th>\n",
       "      <td>70</td>\n",
       "      <td>Brian Ferris</td>\n",
       "      <td>26</td>\n",
       "      <td>Male</td>\n",
       "      <td>Sales</td>\n",
       "      <td>Analyst</td>\n",
       "      <td>5</td>\n",
       "      <td>Bachelor</td>\n",
       "      <td>Seattle</td>\n",
       "      <td>75000</td>\n",
       "    </tr>\n",
       "  </tbody>\n",
       "</table>\n",
       "<p>70 rows × 10 columns</p>\n",
       "</div>"
      ],
      "text/plain": [
       "    Employee_ID            Name  Age  Gender   Department  Job_Title  \\\n",
       "0             1    Merle Ingram   24  Female  Engineering   Engineer   \n",
       "1             2      John Mayes   56    Male        Sales  Executive   \n",
       "2             3    Carlos Wille   21    Male  Engineering     Intern   \n",
       "3             4  Michael Bryant   30    Male      Finance    Analyst   \n",
       "4             5   Paula Douglas   25  Female           HR    Analyst   \n",
       "..          ...             ...  ...     ...          ...        ...   \n",
       "65           66     Terry Parks   30  Female      Finance    Analyst   \n",
       "66           67   Curtis Matney   31    Male      Product   Engineer   \n",
       "67           68  Raleigh Holmes   56    Male           HR  Executive   \n",
       "68           69   James Saleado   35    Male  Engineering    Manager   \n",
       "69           70    Brian Ferris   26    Male        Sales    Analyst   \n",
       "\n",
       "    Experience_Years Education_Level  Location  Salary  \n",
       "0                  1          Master    Austin   90000  \n",
       "1                 33          Master   Seattle  195000  \n",
       "2                  1        Bachelor  New York   35000  \n",
       "3                  9        Bachelor  New York   75000  \n",
       "4                  2          Master   Seattle   70000  \n",
       "..               ...             ...       ...     ...  \n",
       "65                 9        Bachelor   Chicago   80000  \n",
       "66                10        Bachelor  New York   95000  \n",
       "67                33          Master  New York  195000  \n",
       "68                12          Master  New York  125000  \n",
       "69                 5        Bachelor   Seattle   75000  \n",
       "\n",
       "[70 rows x 10 columns]"
      ]
     },
     "execution_count": 5,
     "metadata": {},
     "output_type": "execute_result"
    }
   ],
   "source": [
    "df.head(70)"
   ]
  },
  {
   "cell_type": "code",
   "execution_count": 8,
   "id": "ff9c01dd-fb65-49e4-8d30-45a3a9f8fc74",
   "metadata": {},
   "outputs": [
    {
     "name": "stdout",
     "output_type": "stream",
     "text": [
      "5\n",
      "4\n",
      "3\n",
      "2\n",
      "1\n",
      "Blastoff\n",
      "0\n"
     ]
    }
   ],
   "source": [
    "n=5\n",
    "while n>0:\n",
    "    print(n)\n",
    "    n = n-1\n",
    "print('Blastoff')\n",
    "print(n)"
   ]
  },
  {
   "cell_type": "code",
   "execution_count": 11,
   "id": "60fb40ee-6e0a-4791-81aa-2999b9db5f95",
   "metadata": {},
   "outputs": [
    {
     "name": "stdout",
     "output_type": "stream",
     "text": [
      "idk\n"
     ]
    }
   ],
   "source": [
    "n=0\n",
    "while n>0:\n",
    "    print('Lather')\n",
    "    print('Risne')\n",
    "print('idk')"
   ]
  },
  {
   "cell_type": "code",
   "execution_count": 13,
   "id": "a15c09f6-0a75-474c-8956-1e97205f66d1",
   "metadata": {},
   "outputs": [
    {
     "name": "stdin",
     "output_type": "stream",
     "text": [
      "Enter your pasword subhs\n"
     ]
    },
    {
     "name": "stdout",
     "output_type": "stream",
     "text": [
      "subhs\n"
     ]
    },
    {
     "name": "stdin",
     "output_type": "stream",
     "text": [
      "Enter your pasword @ashis\n"
     ]
    },
    {
     "name": "stdout",
     "output_type": "stream",
     "text": [
      "Done!\n"
     ]
    }
   ],
   "source": [
    "while True:\n",
    "    line = input('Enter your pasword')\n",
    "    if line == '@ashis' :\n",
    "        break\n",
    "    print(line)\n",
    "print('Done!')"
   ]
  },
  {
   "cell_type": "code",
   "execution_count": 15,
   "id": "d7b3cf49-f859-4b36-b452-b920355b75b0",
   "metadata": {},
   "outputs": [
    {
     "name": "stdin",
     "output_type": "stream",
     "text": [
      "Enter your password abcde\n"
     ]
    },
    {
     "name": "stdout",
     "output_type": "stream",
     "text": [
      "abcde\n"
     ]
    },
    {
     "name": "stdin",
     "output_type": "stream",
     "text": [
      "Enter your password subhs\n"
     ]
    },
    {
     "name": "stdout",
     "output_type": "stream",
     "text": [
      "Welcome to the site\n"
     ]
    }
   ],
   "source": [
    "while True:\n",
    "    line = input('Enter your password')\n",
    "    if line == 'subhs' :\n",
    "        break\n",
    "    print(line)\n",
    "print('Welcome to the site')"
   ]
  },
  {
   "cell_type": "code",
   "execution_count": 19,
   "id": "aceb4817-de8e-4b20-80cf-ed04c6c1d318",
   "metadata": {},
   "outputs": [
    {
     "name": "stdin",
     "output_type": "stream",
     "text": [
      "> #\n",
      "> hello there\n"
     ]
    },
    {
     "name": "stdout",
     "output_type": "stream",
     "text": [
      "hello there\n"
     ]
    },
    {
     "name": "stdin",
     "output_type": "stream",
     "text": [
      "> ashia\n"
     ]
    },
    {
     "name": "stdout",
     "output_type": "stream",
     "text": [
      "ashia\n"
     ]
    },
    {
     "name": "stdin",
     "output_type": "stream",
     "text": [
      "> done\n"
     ]
    },
    {
     "name": "stdout",
     "output_type": "stream",
     "text": [
      "Done!\n"
     ]
    }
   ],
   "source": [
    "#EXAMPLE OF CONTINUE STAEMENT\n",
    "while True:\n",
    "    line = input('>')\n",
    "    if line[0] == '#' :\n",
    "        continue\n",
    "    if line == 'done':\n",
    "        break\n",
    "    print(line)\n",
    "print('Done!')"
   ]
  },
  {
   "cell_type": "code",
   "execution_count": 20,
   "id": "17f177bf-02d2-404e-b5e6-73476665959b",
   "metadata": {},
   "outputs": [
    {
     "name": "stdout",
     "output_type": "stream",
     "text": [
      "5\n",
      "4\n",
      "3\n",
      "2\n",
      "1\n",
      "Blastoff\n"
     ]
    }
   ],
   "source": [
    "#DEFINITE LOOP EXAMPLE\n",
    "for i in [5,4,3,2,1]:\n",
    "    print(i)\n",
    "print('Blastoff')"
   ]
  },
  {
   "cell_type": "code",
   "execution_count": 23,
   "id": "f61e5215-4896-46f7-8798-33d9c0b5b3a8",
   "metadata": {},
   "outputs": [
    {
     "name": "stdout",
     "output_type": "stream",
     "text": [
      "All the best shru: shruti\n",
      "Done\n",
      "All the best shru: sumaysha\n",
      "Done\n"
     ]
    }
   ],
   "source": [
    "#EXAMPLE OF DEFINITE LOOP WITH STRINGS)\n",
    "friends=['shruti','sumaysha']\n",
    "for friend in friends:\n",
    "    print('All the best shru:',friend)\n",
    "    print('Done')"
   ]
  },
  {
   "cell_type": "code",
   "execution_count": null,
   "id": "f3d6b516-1f40-4491-8d5a-93ad264c7f14",
   "metadata": {},
   "outputs": [],
   "source": [
    "#LOOPING THROUH A SET\n",
    "print('Before')\n"
   ]
  },
  {
   "cell_type": "code",
   "execution_count": 26,
   "id": "b7d726e4-1c16-4858-810b-808b94f495ab",
   "metadata": {},
   "outputs": [
    {
     "name": "stdout",
     "output_type": "stream",
     "text": [
      "Before -1\n",
      "9 9\n",
      "41 41\n",
      "41 12\n",
      "41 3\n",
      "74 74\n",
      "74 15\n",
      "After 74\n"
     ]
    }
   ],
   "source": [
    "#FINDING THE LARGEST NNUMBER\n",
    "largest_so_far = -1\n",
    "print('Before',largest_so_far)\n",
    "for the_num in [9,41,12,3,74,15]:\n",
    "    if the_num > largest_so_far :\n",
    "        largest_so_far = the_num\n",
    "    print(largest_so_far,the_num)\n",
    "print('After',largest_so_far)"
   ]
  },
  {
   "cell_type": "code",
   "execution_count": 29,
   "id": "fec25934-e00b-4507-97e7-3b27ae3c01c5",
   "metadata": {},
   "outputs": [
    {
     "name": "stdout",
     "output_type": "stream",
     "text": [
      "1 1\n",
      "2 2\n",
      "3 3\n",
      "4 5\n",
      "After 4\n"
     ]
    }
   ],
   "source": [
    "elements = 0\n",
    "arr=[1,2,3,5]\n",
    "for thing in arr:\n",
    "    elements = elements+1\n",
    "    print(elements,thing)\n",
    "print('After', elements)"
   ]
  },
  {
   "cell_type": "code",
   "execution_count": 30,
   "id": "bec7fad5-c482-4a55-a427-3027aa78503e",
   "metadata": {},
   "outputs": [
    {
     "name": "stdout",
     "output_type": "stream",
     "text": [
      "Before 0\n",
      "1 1\n",
      "3 2\n",
      "6 3\n",
      "11 5\n",
      "After 11\n"
     ]
    }
   ],
   "source": [
    "elements=0\n",
    "print('Before',elements)\n",
    "for thing in arr:\n",
    "    elements = elements + thing\n",
    "    print(elements,thing)\n",
    "print('After',elements)\n"
   ]
  },
  {
   "cell_type": "code",
   "execution_count": 12,
   "id": "4cf88912-91d8-4e88-b588-7656db13248a",
   "metadata": {},
   "outputs": [
    {
     "name": "stdin",
     "output_type": "stream",
     "text": [
      "food: cake\n"
     ]
    },
    {
     "name": "stdout",
     "output_type": "stream",
     "text": [
      "yes\n"
     ]
    }
   ],
   "source": [
    "food=input('food:')\n",
    "eat = 'yes'if food == 'cake' else 'no'\n",
    "print(eat) "
   ]
  },
  {
   "cell_type": "code",
   "execution_count": 1,
   "id": "13766ad8-977e-4738-bbff-52b7ba337ee4",
   "metadata": {},
   "outputs": [
    {
     "name": "stdin",
     "output_type": "stream",
     "text": [
      "food: jalebi\n"
     ]
    },
    {
     "name": "stdout",
     "output_type": "stream",
     "text": [
      "Sweet\n"
     ]
    }
   ],
   "source": [
    "food=input('food:')\n",
    "print('Sweet') if food == 'cake' or food == 'jalebi' else print('NOt Sweet')"
   ]
  },
  {
   "cell_type": "code",
   "execution_count": 2,
   "id": "500b54a5-4d3c-4eeb-a447-d9727bac91f8",
   "metadata": {},
   "outputs": [
    {
     "name": "stdin",
     "output_type": "stream",
     "text": [
      "Enter 1st num 23\n",
      "ENter 2nd num 32\n"
     ]
    },
    {
     "name": "stdout",
     "output_type": "stream",
     "text": [
      "2332\n"
     ]
    }
   ],
   "source": [
    "#STRINGS\n",
    "##result for input() is always a str\n",
    "a=input('Enter 1st num')\n",
    "b=input('ENter 2nd num')\n",
    "c=a+b\n",
    "print(c)\n"
   ]
  },
  {
   "cell_type": "code",
   "execution_count": 6,
   "id": "1554537f-d91a-444f-8f77-106593bc711e",
   "metadata": {},
   "outputs": [
    {
     "name": "stdin",
     "output_type": "stream",
     "text": [
      "Enter: hi\n"
     ]
    },
    {
     "ename": "NameError",
     "evalue": "name 'chuck' is not defined",
     "output_type": "error",
     "traceback": [
      "\u001b[31m---------------------------------------------------------------------------\u001b[39m",
      "\u001b[31mNameError\u001b[39m                                 Traceback (most recent call last)",
      "\u001b[36mCell\u001b[39m\u001b[36m \u001b[39m\u001b[32mIn[6]\u001b[39m\u001b[32m, line 2\u001b[39m\n\u001b[32m      1\u001b[39m name=\u001b[38;5;28minput\u001b[39m(\u001b[33m'\u001b[39m\u001b[33mEnter:\u001b[39m\u001b[33m'\u001b[39m)\n\u001b[32m----> \u001b[39m\u001b[32m2\u001b[39m Enter:\u001b[43mchuck\u001b[49m\n\u001b[32m      3\u001b[39m \u001b[38;5;28mprint\u001b[39m(name)\n\u001b[32m      4\u001b[39m apple = \u001b[38;5;28minput\u001b[39m(\u001b[33m'\u001b[39m\u001b[33mEnter:\u001b[39m\u001b[33m'\u001b[39m)\n",
      "\u001b[31mNameError\u001b[39m: name 'chuck' is not defined"
     ]
    }
   ],
   "source": [
    "#BUJHENA\n",
    "name=input('Enter:')\n",
    "Enter:chuck\n",
    "print(name)\n",
    "apple = input('Enter:')\n",
    "ENter:100\n",
    "x=apple-10\n",
    "x=int(apple)-10\n",
    "print(x)"
   ]
  },
  {
   "cell_type": "raw",
   "id": "bcd880a9-8529-4745-a81b-b580a18bb55e",
   "metadata": {},
   "source": [
    "\n"
   ]
  },
  {
   "cell_type": "code",
   "execution_count": 15,
   "id": "f3f51f58-e22f-42a4-bb55-4b67d07e9d03",
   "metadata": {},
   "outputs": [
    {
     "name": "stdout",
     "output_type": "stream",
     "text": [
      "a\n",
      "n\n"
     ]
    },
    {
     "ename": "IndexError",
     "evalue": "string index out of range",
     "output_type": "error",
     "traceback": [
      "\u001b[31m---------------------------------------------------------------------------\u001b[39m",
      "\u001b[31mIndexError\u001b[39m                                Traceback (most recent call last)",
      "\u001b[36mCell\u001b[39m\u001b[36m \u001b[39m\u001b[32mIn[15]\u001b[39m\u001b[32m, line 8\u001b[39m\n\u001b[32m      6\u001b[39m \u001b[38;5;28mprint\u001b[39m(w)\n\u001b[32m      7\u001b[39m abc=\u001b[33m'\u001b[39m\u001b[33mmango\u001b[39m\u001b[33m'\u001b[39m\n\u001b[32m----> \u001b[39m\u001b[32m8\u001b[39m \u001b[38;5;28mprint\u001b[39m(\u001b[43mabc\u001b[49m\u001b[43m[\u001b[49m\u001b[32;43m10\u001b[39;49m\u001b[43m]\u001b[49m)\n",
      "\u001b[31mIndexError\u001b[39m: string index out of range"
     ]
    }
   ],
   "source": [
    "fruit='banana'\n",
    "letter=fruit[1]\n",
    "print(letter)\n",
    "x=3\n",
    "w=fruit[x-1]\n",
    "print(w)\n",
    "abc='mango'\n",
    "print(abc[10])\n"
   ]
  },
  {
   "cell_type": "code",
   "execution_count": 2,
   "id": "d015e40d-5a38-4dbb-8018-4bba6173ba53",
   "metadata": {},
   "outputs": [
    {
     "name": "stdout",
     "output_type": "stream",
     "text": [
      "6\n"
     ]
    }
   ],
   "source": [
    "fruit='banana'\n",
    "print(len(fruit))"
   ]
  },
  {
   "cell_type": "code",
   "execution_count": 6,
   "id": "1da1503a-2ae9-4c80-93ae-efe433c45736",
   "metadata": {},
   "outputs": [
    {
     "name": "stdout",
     "output_type": "stream",
     "text": [
      "0 b\n",
      "1 a\n",
      "2 n\n",
      "3 a\n",
      "4 n\n",
      "5 a\n"
     ]
    }
   ],
   "source": [
    "#LOOPING THROUGH STRINGS\n",
    "fruit='banana'\n",
    "index=0\n",
    "while index<len(fruit):\n",
    "    letter=fruit[index]\n",
    "    print(index,letter)\n",
    "    index=index+1"
   ]
  },
  {
   "cell_type": "code",
   "execution_count": 19,
   "id": "910cd8e9-7fe8-4bab-b909-04fa18b59954",
   "metadata": {},
   "outputs": [
    {
     "name": "stdout",
     "output_type": "stream",
     "text": [
      "0\n",
      "1\n",
      "2\n",
      "3\n",
      "4\n",
      "5\n"
     ]
    }
   ],
   "source": [
    "#using loop\n",
    "fruit='banana'\n",
    "index=0\n",
    "for letter in range (6):\n",
    "    letter=fruit[index]\n",
    "    print(index)\n",
    "    index=index+1"
   ]
  },
  {
   "cell_type": "code",
   "execution_count": 27,
   "id": "4b77e18a-d638-4bb3-8e8a-3b202bc1cadc",
   "metadata": {},
   "outputs": [
    {
     "name": "stdout",
     "output_type": "stream",
     "text": [
      "1\n",
      "2\n",
      "3\n"
     ]
    }
   ],
   "source": [
    "fruit='banana'\n",
    "index=0\n",
    "for letter in fruit:\n",
    "    if letter=='a':\n",
    "      index=index+1\n",
    "      print(index)"
   ]
  },
  {
   "cell_type": "code",
   "execution_count": 31,
   "id": "da11aa3a-dca6-448d-831d-d5edcd82a17f",
   "metadata": {},
   "outputs": [
    {
     "name": "stdout",
     "output_type": "stream",
     "text": [
      "1\n"
     ]
    }
   ],
   "source": [
    "fruit='banana'\n",
    "count=0\n",
    "for letter in fruit:\n",
    "    if(letter =='b'):\n",
    "        count+=1\n",
    "print(count)"
   ]
  },
  {
   "cell_type": "code",
   "execution_count": 34,
   "id": "63425033-61fa-4d99-9369-b7d967e601e8",
   "metadata": {},
   "outputs": [
    {
     "name": "stdout",
     "output_type": "stream",
     "text": [
      "ashi\n",
      "a\n"
     ]
    }
   ],
   "source": [
    "#SLICING STRINGS\n",
    "s='ashis adhika'\n",
    "print(s[0:4])\n",
    "print(s[6:7])"
   ]
  },
  {
   "cell_type": "code",
   "execution_count": null,
   "id": "bfa573df-dfdb-40af-96a5-19a9339f8d46",
   "metadata": {},
   "outputs": [],
   "source": []
  },
  {
   "cell_type": "code",
   "execution_count": 36,
   "id": "859e7221-6be7-4b09-9d50-34a7ae663f8b",
   "metadata": {},
   "outputs": [
    {
     "name": "stdout",
     "output_type": "stream",
     "text": [
      "mo\n",
      "thon\n",
      "monty python\n"
     ]
    }
   ],
   "source": [
    "s='monty python'\n",
    "print(s[:2])\n",
    "print(s[8:])\n",
    "print(s[:])"
   ]
  },
  {
   "cell_type": "code",
   "execution_count": 40,
   "id": "efb21416-62f4-442f-8ffa-4eda85c65309",
   "metadata": {},
   "outputs": [
    {
     "name": "stdout",
     "output_type": "stream",
     "text": [
      "found it yayy\n"
     ]
    }
   ],
   "source": [
    "#USE OF in\n",
    "fruit='banana'\n",
    "'n' in fruit\n",
    "if 'a' in fruit:\n",
    "    print('found it yayy')"
   ]
  },
  {
   "cell_type": "code",
   "execution_count": 42,
   "id": "f8e2d5d7-540c-45de-ae12-9a938e6c714b",
   "metadata": {},
   "outputs": [
    {
     "data": {
      "text/plain": [
       "['__add__',\n",
       " '__class__',\n",
       " '__contains__',\n",
       " '__delattr__',\n",
       " '__dir__',\n",
       " '__doc__',\n",
       " '__eq__',\n",
       " '__format__',\n",
       " '__ge__',\n",
       " '__getattribute__',\n",
       " '__getitem__',\n",
       " '__getnewargs__',\n",
       " '__getstate__',\n",
       " '__gt__',\n",
       " '__hash__',\n",
       " '__init__',\n",
       " '__init_subclass__',\n",
       " '__iter__',\n",
       " '__le__',\n",
       " '__len__',\n",
       " '__lt__',\n",
       " '__mod__',\n",
       " '__mul__',\n",
       " '__ne__',\n",
       " '__new__',\n",
       " '__reduce__',\n",
       " '__reduce_ex__',\n",
       " '__repr__',\n",
       " '__rmod__',\n",
       " '__rmul__',\n",
       " '__setattr__',\n",
       " '__sizeof__',\n",
       " '__str__',\n",
       " '__subclasshook__',\n",
       " 'capitalize',\n",
       " 'casefold',\n",
       " 'center',\n",
       " 'count',\n",
       " 'encode',\n",
       " 'endswith',\n",
       " 'expandtabs',\n",
       " 'find',\n",
       " 'format',\n",
       " 'format_map',\n",
       " 'index',\n",
       " 'isalnum',\n",
       " 'isalpha',\n",
       " 'isascii',\n",
       " 'isdecimal',\n",
       " 'isdigit',\n",
       " 'isidentifier',\n",
       " 'islower',\n",
       " 'isnumeric',\n",
       " 'isprintable',\n",
       " 'isspace',\n",
       " 'istitle',\n",
       " 'isupper',\n",
       " 'join',\n",
       " 'ljust',\n",
       " 'lower',\n",
       " 'lstrip',\n",
       " 'maketrans',\n",
       " 'partition',\n",
       " 'removeprefix',\n",
       " 'removesuffix',\n",
       " 'replace',\n",
       " 'rfind',\n",
       " 'rindex',\n",
       " 'rjust',\n",
       " 'rpartition',\n",
       " 'rsplit',\n",
       " 'rstrip',\n",
       " 'split',\n",
       " 'splitlines',\n",
       " 'startswith',\n",
       " 'strip',\n",
       " 'swapcase',\n",
       " 'title',\n",
       " 'translate',\n",
       " 'upper',\n",
       " 'zfill']"
      ]
     },
     "execution_count": 42,
     "metadata": {},
     "output_type": "execute_result"
    }
   ],
   "source": [
    "stuff='hello world'\n",
    "type(stuff)\n",
    "dir(stuff)"
   ]
  },
  {
   "cell_type": "code",
   "execution_count": null,
   "id": "6945ee07-7f12-4419-9530-66e76835a0cd",
   "metadata": {},
   "outputs": [],
   "source": [
    "imp"
   ]
  }
 ],
 "metadata": {
  "kernelspec": {
   "display_name": "Python 3 (ipykernel)",
   "language": "python",
   "name": "python3"
  },
  "language_info": {
   "codemirror_mode": {
    "name": "ipython",
    "version": 3
   },
   "file_extension": ".py",
   "mimetype": "text/x-python",
   "name": "python",
   "nbconvert_exporter": "python",
   "pygments_lexer": "ipython3",
   "version": "3.13.5"
  }
 },
 "nbformat": 4,
 "nbformat_minor": 5
}
