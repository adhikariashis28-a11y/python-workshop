{
 "cells": [
  {
   "cell_type": "code",
   "execution_count": 1,
   "id": "65d150ab-346c-4f0e-83e2-830ff67e8a77",
   "metadata": {},
   "outputs": [
    {
     "name": "stdout",
     "output_type": "stream",
     "text": [
      "<_io.TextIOWrapper name='file.txt' mode='r' encoding='cp1252'>\n"
     ]
    }
   ],
   "source": [
    "name=open('file.txt')\n",
    "print(name)"
   ]
  },
  {
   "cell_type": "code",
   "execution_count": 5,
   "id": "233eceb7-23da-4434-880a-3ef10fbe668c",
   "metadata": {},
   "outputs": [
    {
     "name": "stdout",
     "output_type": "stream",
     "text": [
      "{\n",
      "\n",
      " \"cells\": [\n",
      "\n",
      "  {\n",
      "\n",
      "   \"cell_type\": \"code\",\n",
      "\n",
      "   \"execution_count\": 1,\n",
      "\n",
      "   \"id\": \"65d150ab-346c-4f0e-83e2-830ff67e8a77\",\n",
      "\n",
      "   \"metadata\": {},\n",
      "\n",
      "   \"outputs\": [\n",
      "\n",
      "    {\n",
      "\n",
      "     \"name\": \"stdout\",\n",
      "\n",
      "     \"output_type\": \"stream\",\n",
      "\n",
      "     \"text\": [\n",
      "\n",
      "      \"<_io.TextIOWrapper name='file.txt' mode='r' encoding='cp1252'>\\n\"\n",
      "\n",
      "     ]\n",
      "\n",
      "    }\n",
      "\n",
      "   ],\n",
      "\n",
      "   \"source\": [\n",
      "\n",
      "    \"name=open('file.txt')\\n\",\n",
      "\n",
      "    \"print(name)\"\n",
      "\n",
      "   ]\n",
      "\n",
      "  },\n",
      "\n",
      "  {\n",
      "\n",
      "   \"cell_type\": \"code\",\n",
      "\n",
      "   \"execution_count\": null,\n",
      "\n",
      "   \"id\": \"233eceb7-23da-4434-880a-3ef10fbe668c\",\n",
      "\n",
      "   \"metadata\": {},\n",
      "\n",
      "   \"outputs\": [],\n",
      "\n",
      "   \"source\": []\n",
      "\n",
      "  }\n",
      "\n",
      " ],\n",
      "\n",
      " \"metadata\": {\n",
      "\n",
      "  \"kernelspec\": {\n",
      "\n",
      "   \"display_name\": \"Python 3 (ipykernel)\",\n",
      "\n",
      "   \"language\": \"python\",\n",
      "\n",
      "   \"name\": \"python3\"\n",
      "\n",
      "  },\n",
      "\n",
      "  \"language_info\": {\n",
      "\n",
      "   \"codemirror_mode\": {\n",
      "\n",
      "    \"name\": \"ipython\",\n",
      "\n",
      "    \"version\": 3\n",
      "\n",
      "   },\n",
      "\n",
      "   \"file_extension\": \".py\",\n",
      "\n",
      "   \"mimetype\": \"text/x-python\",\n",
      "\n",
      "   \"name\": \"python\",\n",
      "\n",
      "   \"nbconvert_exporter\": \"python\",\n",
      "\n",
      "   \"pygments_lexer\": \"ipython3\",\n",
      "\n",
      "   \"version\": \"3.13.5\"\n",
      "\n",
      "  }\n",
      "\n",
      " },\n",
      "\n",
      " \"nbformat\": 4,\n",
      "\n",
      " \"nbformat_minor\": 5\n",
      "\n",
      "}\n",
      "\n"
     ]
    }
   ],
   "source": [
    "xfile = open('file.txt')\n",
    "for subhakar in xfile:\n",
    "   print(subhakar)"
   ]
  },
  {
   "cell_type": "code",
   "execution_count": null,
   "id": "5cb565a2-a461-4123-9d2f-bc40b40a4d41",
   "metadata": {},
   "outputs": [],
   "source": []
  }
 ],
 "metadata": {
  "kernelspec": {
   "display_name": "Python 3 (ipykernel)",
   "language": "python",
   "name": "python3"
  },
  "language_info": {
   "codemirror_mode": {
    "name": "ipython",
    "version": 3
   },
   "file_extension": ".py",
   "mimetype": "text/x-python",
   "name": "python",
   "nbconvert_exporter": "python",
   "pygments_lexer": "ipython3",
   "version": "3.13.5"
  }
 },
 "nbformat": 4,
 "nbformat_minor": 5
}
